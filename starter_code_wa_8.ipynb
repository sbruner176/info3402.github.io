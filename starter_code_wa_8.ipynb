{
 "cells": [
  {
   "cell_type": "code",
   "execution_count": 3,
   "metadata": {},
   "outputs": [],
   "source": [
    "import csv\n",
    "\n",
    "def make_data_point(line, header):\n",
    "    output = {}\n",
    "    for index, header_item in enumerate(header):\n",
    "        output[header_item] = line[index]\n",
    "    return output\n",
    "\n",
    "with open(\"denver-1.nov.csv\") as inf:\n",
    "    reader = csv.reader(inf)\n",
    "    header = next(reader)\n",
    "    all_data = []\n",
    "    for line in reader:\n",
    "        all_data.append(make_data_point(line, header))"
   ]
  },
  {
   "cell_type": "code",
   "execution_count": 15,
   "metadata": {},
   "outputs": [],
   "source": [
    "from collections import defaultdict\n",
    "\n",
    "# this stores a dictionary mapping each precinct to a list of data\n",
    "# from that precinct\n",
    "byprecinct = defaultdict(list)  \n",
    "for line in all_data:\n",
    "    byprecinct[line[\"precinct\"]].append(line)\n"
   ]
  },
  {
   "cell_type": "code",
   "execution_count": 6,
   "metadata": {},
   "outputs": [
    {
     "data": {
      "text/plain": [
       "dict_keys(['423', '324', 'None', '323', '314', '422', '421', '313', '322', '312', '412', '311', '411', '321', '122', '213', '123', '623', '622', '223', '611', '222', '621', '121', '612', '211', '221', '113', '512', '212', '112', '111', '523', '521', '522', '511', '759'])"
      ]
     },
     "execution_count": 6,
     "metadata": {},
     "output_type": "execute_result"
    }
   ],
   "source": [
    "byprecinct.keys()"
   ]
  },
  {
   "cell_type": "code",
   "execution_count": 16,
   "metadata": {},
   "outputs": [
    {
     "name": "stdout",
     "output_type": "stream",
     "text": [
      "{'423': [171, 8, 0.04678362573099415], '324': [40, 2, 0.05], 'None': [166, 23, 0.13855421686746988], '323': [84, 10, 0.11904761904761904], '314': [66, 8, 0.12121212121212122], '422': [171, 15, 0.08771929824561403], '421': [233, 26, 0.11158798283261803], '313': [140, 11, 0.07857142857142857], '322': [104, 8, 0.07692307692307693], '312': [187, 19, 0.10160427807486631], '412': [290, 46, 0.15862068965517243], '311': [294, 49, 0.16666666666666666], '411': [293, 54, 0.18430034129692832], '321': [53, 6, 0.11320754716981132], '122': [193, 40, 0.20725388601036268], '213': [169, 23, 0.13609467455621302], '123': [154, 26, 0.16883116883116883], '623': [147, 28, 0.19047619047619047], '622': [124, 24, 0.1935483870967742], '223': [369, 78, 0.21138211382113822], '611': [278, 41, 0.1474820143884892], '222': [132, 16, 0.12121212121212122], '621': [281, 50, 0.17793594306049823], '121': [218, 39, 0.17889908256880735], '612': [174, 43, 0.2471264367816092], '211': [256, 65, 0.25390625], '221': [210, 33, 0.15714285714285714], '113': [155, 14, 0.09032258064516129], '512': [115, 14, 0.12173913043478261], '212': [202, 39, 0.19306930693069307], '112': [167, 40, 0.23952095808383234], '111': [271, 41, 0.15129151291512916], '523': [44, 4, 0.09090909090909091], '521': [207, 26, 0.12560386473429952], '522': [73, 4, 0.0547945205479452], '511': [132, 12, 0.09090909090909091], '759': [2, 0, 0.0]}\n"
     ]
    }
   ],
   "source": [
    "percent_arrest_dict={}\n",
    "for precinct in byprecinct:\n",
    "    counter=0\n",
    "    counter1=0\n",
    "    arrest_list=[]\n",
    "    for item in byprecinct[precinct]:\n",
    "        counter+=1\n",
    "        if item['arrest_made']==\"TRUE\":\n",
    "            counter1+=1\n",
    "    arrest_list.append(counter)\n",
    "    arrest_list.append(counter1)\n",
    "    arrest_list.append(counter1/counter)\n",
    "    percent_arrest_dict[precinct]=arrest_list\n",
    "print(percent_arrest_dict)"
   ]
  },
  {
   "cell_type": "code",
   "execution_count": 17,
   "metadata": {},
   "outputs": [],
   "source": [
    "import json\n",
    "#Create a JSON Object\n",
    "json_obj = percent_arrest_dict\n",
    "\n",
    "\n",
    "#Write the object to file.\n",
    "with open('percent_arrest.json','w') as jsonFile:\n",
    "    json.dump(json_obj, jsonFile)"
   ]
  }
 ],
 "metadata": {
  "kernelspec": {
   "display_name": "Python 3",
   "language": "python",
   "name": "python3"
  },
  "language_info": {
   "codemirror_mode": {
    "name": "ipython",
    "version": 3
   },
   "file_extension": ".py",
   "mimetype": "text/x-python",
   "name": "python",
   "nbconvert_exporter": "python",
   "pygments_lexer": "ipython3",
   "version": "3.8.5"
  }
 },
 "nbformat": 4,
 "nbformat_minor": 4
}
